{
  "nbformat": 4,
  "nbformat_minor": 0,
  "metadata": {
    "colab": {
      "provenance": [],
      "authorship_tag": "ABX9TyNnJVDwgbE9YF+dATkDqCcb",
      "include_colab_link": true
    },
    "kernelspec": {
      "name": "python3",
      "display_name": "Python 3"
    },
    "language_info": {
      "name": "python"
    }
  },
  "cells": [
    {
      "cell_type": "markdown",
      "metadata": {
        "id": "view-in-github",
        "colab_type": "text"
      },
      "source": [
        "<a href=\"https://colab.research.google.com/github/mtsilimos/Codesnippets_Sentence-Embeddings-for-the-Classification-of-Explicit-Fine-grained-Discourse-Relations/blob/main/Bi_LSTM%26GloVe.ipynb\" target=\"_parent\"><img src=\"https://colab.research.google.com/assets/colab-badge.svg\" alt=\"Open In Colab\"/></a>"
      ]
    },
    {
      "cell_type": "code",
      "execution_count": 26,
      "metadata": {
        "colab": {
          "base_uri": "https://localhost:8080/"
        },
        "id": "LA1fOg9yf5rw",
        "outputId": "cefa7579-74f0-49e8-995d-9a659eb29b92"
      },
      "outputs": [
        {
          "output_type": "stream",
          "name": "stdout",
          "text": [
            "Drive already mounted at /content/drive; to attempt to forcibly remount, call drive.mount(\"/content/drive\", force_remount=True).\n"
          ]
        }
      ],
      "source": [
        "from google.colab import drive\n",
        "drive.mount('/content/drive')"
      ]
    },
    {
      "cell_type": "code",
      "source": [
        "import pandas as pd\n",
        "\n",
        "df1 = pd.read_csv('/content/drive/My Drive/finalcorpus.csv', ';', encoding= 'unicode_escape')"
      ],
      "metadata": {
        "colab": {
          "base_uri": "https://localhost:8080/"
        },
        "id": "8c9caD-UhbcL",
        "outputId": "d47f8741-c6b2-4854-fb48-f9832986ce65"
      },
      "execution_count": 27,
      "outputs": [
        {
          "output_type": "stream",
          "name": "stderr",
          "text": [
            "<ipython-input-27-bed78225ebf4>:3: FutureWarning: In a future version of pandas all arguments of read_csv except for the argument 'filepath_or_buffer' will be keyword-only.\n",
            "  df1 = pd.read_csv('/content/drive/My Drive/finalcorpus.csv', ';', encoding= 'unicode_escape')\n"
          ]
        }
      ]
    },
    {
      "cell_type": "code",
      "source": [
        "from tensorflow import keras\n",
        "from keras.preprocessing.text import Tokenizer\n",
        "\n",
        "from keras.models import Sequential\n",
        "from keras.layers import Dense, Embedding, LSTM, Bidirectional\n",
        "from sklearn.model_selection import train_test_split\n",
        "import numpy as np\n",
        "import pandas as pd"
      ],
      "metadata": {
        "id": "SqehJQSZhdhh"
      },
      "execution_count": 30,
      "outputs": []
    },
    {
      "cell_type": "code",
      "source": [
        "\n",
        "X = df1['text']\n",
        "y = df1['label']"
      ],
      "metadata": {
        "id": "Yq0ZzzUFhfPK"
      },
      "execution_count": 31,
      "outputs": []
    },
    {
      "cell_type": "code",
      "source": [
        "from sklearn.model_selection import train_test_split\n",
        "X_train, X_test , y_train, y_test = train_test_split(X, y , test_size = 0.20, random_state=42)"
      ],
      "metadata": {
        "id": "6hBnqRVehhgE"
      },
      "execution_count": 32,
      "outputs": []
    },
    {
      "cell_type": "code",
      "source": [
        "vocab_size = 20000\n",
        "oov_token = \"\"\n",
        "max_length = 100\n",
        "padding_type = \"post\"\n",
        "trunction_type=\"post\""
      ],
      "metadata": {
        "id": "VFC-lWLXhjgB"
      },
      "execution_count": 33,
      "outputs": []
    },
    {
      "cell_type": "code",
      "source": [
        "\n",
        "tokenizer = Tokenizer(num_words = vocab_size, oov_token=oov_token)\n",
        "tokenizer.fit_on_texts(X_train)"
      ],
      "metadata": {
        "id": "_Df3u8GFiYeK"
      },
      "execution_count": 34,
      "outputs": []
    },
    {
      "cell_type": "code",
      "source": [
        "word_index = tokenizer.word_index"
      ],
      "metadata": {
        "id": "UwhfMqMdiaeA"
      },
      "execution_count": 35,
      "outputs": []
    },
    {
      "cell_type": "code",
      "source": [
        "X_train_sequences = tokenizer.texts_to_sequences(X_train)"
      ],
      "metadata": {
        "id": "2bIoFtpOicSU"
      },
      "execution_count": 36,
      "outputs": []
    },
    {
      "cell_type": "code",
      "source": [
        "from tensorflow.keras.preprocessing.sequence import pad_sequences\n",
        "X_train_padded = pad_sequences(X_train_sequences,maxlen=max_length, padding=padding_type,\n",
        "                       truncating=trunction_type)"
      ],
      "metadata": {
        "id": "tkKL5VVbic5j"
      },
      "execution_count": 37,
      "outputs": []
    },
    {
      "cell_type": "code",
      "source": [
        "X_train_padded.shape"
      ],
      "metadata": {
        "colab": {
          "base_uri": "https://localhost:8080/"
        },
        "id": "gQC1Ke0jigps",
        "outputId": "604775a6-418e-4120-d8a3-4ac6f42217f0"
      },
      "execution_count": 38,
      "outputs": [
        {
          "output_type": "execute_result",
          "data": {
            "text/plain": [
              "(1600, 100)"
            ]
          },
          "metadata": {},
          "execution_count": 38
        }
      ]
    },
    {
      "cell_type": "code",
      "source": [
        "X_test_sequences = tokenizer.texts_to_sequences(X_test)\n",
        "X_test_padded = pad_sequences(X_test_sequences,maxlen=max_length,\n",
        "                               padding=padding_type, truncating=trunction_type)\n",
        ""
      ],
      "metadata": {
        "id": "5OCdvZowjHZq"
      },
      "execution_count": 39,
      "outputs": []
    },
    {
      "cell_type": "code",
      "source": [
        "X_test_padded.shape"
      ],
      "metadata": {
        "colab": {
          "base_uri": "https://localhost:8080/"
        },
        "id": "-aST7zXBjJgQ",
        "outputId": "54cf406e-16c9-4a7c-e716-011ef85c339c"
      },
      "execution_count": 40,
      "outputs": [
        {
          "output_type": "execute_result",
          "data": {
            "text/plain": [
              "(400, 100)"
            ]
          },
          "metadata": {},
          "execution_count": 40
        }
      ]
    },
    {
      "cell_type": "code",
      "source": [
        "embeddings_index = {}\n",
        "f = open('/content/drive/My Drive//glove.twitter.27B.100d.txt', encoding=\"utf8\")\n",
        "for line in f:\n",
        "         values = line.split()\n",
        "         word = values[0]\n",
        "         coefs = np.asarray(values[1:], dtype='float32')\n",
        "         embeddings_index[word] = coefs\n",
        "f.close()\n",
        "\n",
        "print('Found %s word vectors.' % len(embeddings_index))"
      ],
      "metadata": {
        "colab": {
          "base_uri": "https://localhost:8080/"
        },
        "id": "0tSTirz_jL_Y",
        "outputId": "ad7c8ce4-c70b-4b0d-e9c4-9c6f092dd8d8"
      },
      "execution_count": 41,
      "outputs": [
        {
          "output_type": "stream",
          "name": "stdout",
          "text": [
            "Found 1193514 word vectors.\n"
          ]
        }
      ]
    },
    {
      "cell_type": "code",
      "source": [
        "embedding_matrix = np.zeros((len(word_index) + 1, max_length))\n",
        "for word, i in word_index.items():\n",
        "    embedding_vector = embeddings_index.get(word)\n",
        "    if embedding_vector is not None:\n",
        "        # words not found in embedding index will be all-zeros.\n",
        "        embedding_matrix[i] = embedding_vector"
      ],
      "metadata": {
        "id": "Y-TEi7Z_jOA2"
      },
      "execution_count": 42,
      "outputs": []
    },
    {
      "cell_type": "code",
      "source": [
        "embedding_matrix.shape"
      ],
      "metadata": {
        "colab": {
          "base_uri": "https://localhost:8080/"
        },
        "id": "fVsIAnlijRMO",
        "outputId": "7322cee1-5801-47c0-cb53-d10d303614be"
      },
      "execution_count": 43,
      "outputs": [
        {
          "output_type": "execute_result",
          "data": {
            "text/plain": [
              "(4499, 100)"
            ]
          },
          "metadata": {},
          "execution_count": 43
        }
      ]
    },
    {
      "cell_type": "code",
      "source": [
        "embedding_layer = Embedding(len(word_index) + 1,\n",
        "                            max_length,\n",
        "                            weights=[embedding_matrix],\n",
        "                            input_length=max_length,\n",
        "                            trainable=False)"
      ],
      "metadata": {
        "id": "WQjwjjSNjS1s"
      },
      "execution_count": 44,
      "outputs": []
    },
    {
      "cell_type": "code",
      "source": [
        "from tensorflow.keras.layers import Embedding, LSTM, Dense, Dropout, Bidirectional\n",
        "import tensorflow as tf\n",
        "\n",
        "from tensorflow.keras.callbacks import EarlyStopping\n",
        "early_stopping = EarlyStopping()\n",
        "early_stopping = EarlyStopping(\n",
        "    monitor='val_accuracy',\n",
        "    patience=0,\n",
        "    min_delta=0.001,\n",
        "    mode='max'\n",
        ")\n",
        "\n",
        "\n",
        "model = Sequential()\n",
        "embedding_dim = 32\n",
        "model = Sequential([\n",
        "    embedding_layer,\n",
        "  Bidirectional(LSTM(embedding_dim, input_length = max_length, return_sequences=True)),\n",
        "    Dense(20,activation='relu'),\n",
        "    Dropout(0.5),\n",
        "    Dense(6,activation='relu'),\n",
        "    Dropout(0.5),\n",
        "    Dense(4,activation='relu'),\n",
        "    Dropout(0.5),\n",
        "  Dense(1,activation='sigmoid')\n",
        "])"
      ],
      "metadata": {
        "id": "uDLs3L2ijVlB"
      },
      "execution_count": 47,
      "outputs": []
    },
    {
      "cell_type": "code",
      "source": [
        "METRICS = [\n",
        "      tf.keras.metrics.BinaryAccuracy(name='accuracy')]\n",
        "\n",
        "model.compile(optimizer='adam',\n",
        " loss='binary_crossentropy',\n",
        " metrics=METRICS)\n",
        "\n",
        "\n",
        "\n",
        "print(model.summary())\n",
        ""
      ],
      "metadata": {
        "colab": {
          "base_uri": "https://localhost:8080/"
        },
        "id": "-8MkZUBBjYuq",
        "outputId": "c1972741-4ae7-4a4e-f2dc-2f507fee9fb8"
      },
      "execution_count": 48,
      "outputs": [
        {
          "output_type": "stream",
          "name": "stdout",
          "text": [
            "Model: \"sequential_5\"\n",
            "_________________________________________________________________\n",
            " Layer (type)                Output Shape              Param #   \n",
            "=================================================================\n",
            " embedding_1 (Embedding)     (None, 100, 100)          449900    \n",
            "                                                                 \n",
            " bidirectional_2 (Bidirecti  (None, 100, 64)           34048     \n",
            " onal)                                                           \n",
            "                                                                 \n",
            " dense_8 (Dense)             (None, 100, 20)           1300      \n",
            "                                                                 \n",
            " dropout_6 (Dropout)         (None, 100, 20)           0         \n",
            "                                                                 \n",
            " dense_9 (Dense)             (None, 100, 6)            126       \n",
            "                                                                 \n",
            " dropout_7 (Dropout)         (None, 100, 6)            0         \n",
            "                                                                 \n",
            " dense_10 (Dense)            (None, 100, 4)            28        \n",
            "                                                                 \n",
            " dropout_8 (Dropout)         (None, 100, 4)            0         \n",
            "                                                                 \n",
            " dense_11 (Dense)            (None, 100, 1)            5         \n",
            "                                                                 \n",
            "=================================================================\n",
            "Total params: 485407 (1.85 MB)\n",
            "Trainable params: 35507 (138.70 KB)\n",
            "Non-trainable params: 449900 (1.72 MB)\n",
            "_________________________________________________________________\n",
            "None\n"
          ]
        }
      ]
    },
    {
      "cell_type": "code",
      "source": [
        "history = model.fit(X_train_padded, y_train, epochs=10, shuffle = True, batch_size=64, validation_data=(X_test_padded, y_test), callbacks=[early_stopping])"
      ],
      "metadata": {
        "colab": {
          "base_uri": "https://localhost:8080/"
        },
        "id": "msLfaWINjd2u",
        "outputId": "095c0e43-4cd8-4cf3-eb8e-a97fb725adba"
      },
      "execution_count": 49,
      "outputs": [
        {
          "output_type": "stream",
          "name": "stdout",
          "text": [
            "Epoch 1/10\n",
            "25/25 [==============================] - 7s 122ms/step - loss: 0.6933 - accuracy: 0.4990 - val_loss: 0.6921 - val_accuracy: 0.5200\n",
            "Epoch 2/10\n",
            "25/25 [==============================] - 4s 161ms/step - loss: 0.6901 - accuracy: 0.5217 - val_loss: 0.6807 - val_accuracy: 0.5703\n",
            "Epoch 3/10\n",
            "25/25 [==============================] - 3s 103ms/step - loss: 0.6626 - accuracy: 0.6021 - val_loss: 0.6064 - val_accuracy: 0.8165\n",
            "Epoch 4/10\n",
            "25/25 [==============================] - 2s 86ms/step - loss: 0.6370 - accuracy: 0.6524 - val_loss: 0.5851 - val_accuracy: 0.8250\n",
            "Epoch 5/10\n",
            "25/25 [==============================] - 2s 81ms/step - loss: 0.6165 - accuracy: 0.6742 - val_loss: 0.5419 - val_accuracy: 0.8662\n",
            "Epoch 6/10\n",
            "25/25 [==============================] - 2s 82ms/step - loss: 0.5803 - accuracy: 0.7076 - val_loss: 0.4774 - val_accuracy: 0.8778\n",
            "Epoch 7/10\n",
            "25/25 [==============================] - 2s 86ms/step - loss: 0.5647 - accuracy: 0.7286 - val_loss: 0.4645 - val_accuracy: 0.8739\n"
          ]
        }
      ]
    },
    {
      "cell_type": "code",
      "source": [
        "\n",
        "model.evaluate(X_test_padded, y_test)"
      ],
      "metadata": {
        "colab": {
          "base_uri": "https://localhost:8080/"
        },
        "id": "YPLEcCMakigY",
        "outputId": "31b9ce1d-792f-4561-a3ff-1b83437c2b2e"
      },
      "execution_count": 50,
      "outputs": [
        {
          "output_type": "stream",
          "name": "stdout",
          "text": [
            "13/13 [==============================] - 0s 20ms/step - loss: 0.4645 - accuracy: 0.8739\n"
          ]
        },
        {
          "output_type": "execute_result",
          "data": {
            "text/plain": [
              "[0.46450069546699524, 0.8738999962806702]"
            ]
          },
          "metadata": {},
          "execution_count": 50
        }
      ]
    },
    {
      "cell_type": "code",
      "source": [
        "model.evaluate(X_train_padded, y_train)"
      ],
      "metadata": {
        "colab": {
          "base_uri": "https://localhost:8080/"
        },
        "id": "9oaw66TRkv1U",
        "outputId": "40693787-3508-47b0-b593-49d0c746be35"
      },
      "execution_count": 51,
      "outputs": [
        {
          "output_type": "stream",
          "name": "stdout",
          "text": [
            "50/50 [==============================] - 2s 36ms/step - loss: 0.4426 - accuracy: 0.8976\n"
          ]
        },
        {
          "output_type": "execute_result",
          "data": {
            "text/plain": [
              "[0.4426482915878296, 0.8976437449455261]"
            ]
          },
          "metadata": {},
          "execution_count": 51
        }
      ]
    },
    {
      "cell_type": "code",
      "source": [
        "import matplotlib.pyplot as plt\n",
        "loss = history.history['loss']\n",
        "val_loss = history.history['val_loss']\n",
        "epochs = range(1, len(loss) + 1)\n",
        "plt.plot(epochs, loss, 'y', label='Training loss')\n",
        "plt.plot(epochs, val_loss, 'r', label='Validation loss')\n",
        "plt.title('Training and validation loss')\n",
        "plt.xlabel('Epochs')\n",
        "plt.ylabel('Loss')\n",
        "plt.legend()\n",
        "plt.show()"
      ],
      "metadata": {
        "colab": {
          "base_uri": "https://localhost:8080/",
          "height": 472
        },
        "id": "rBegzWiakxS6",
        "outputId": "74b555de-0a9c-48fd-81cf-0f64c8067247"
      },
      "execution_count": 52,
      "outputs": [
        {
          "output_type": "display_data",
          "data": {
            "text/plain": [
              "<Figure size 640x480 with 1 Axes>"
            ],
            "image/png": "[encoded data removed]"
          },
          "metadata": {}
        }
      ]
    },
    {
      "cell_type": "code",
      "source": [
        "\n",
        "acc = history.history['accuracy']\n",
        "val_acc = history.history['val_accuracy']\n",
        "plt.plot(epochs, acc, 'y', label='Training acc')\n",
        "plt.plot(epochs, val_acc, 'r', label='Validation acc')\n",
        "plt.title('Training and validation accuracy')\n",
        "plt.xlabel('Epochs')\n",
        "plt.ylabel('Accuracy')\n",
        "plt.legend()\n",
        "plt.show()"
      ],
      "metadata": {
        "colab": {
          "base_uri": "https://localhost:8080/",
          "height": 472
        },
        "id": "JK2L0naek0ug",
        "outputId": "562eda46-7205-4552-edbb-cd34d6cf51f7"
      },
      "execution_count": 53,
      "outputs": [
        {
          "output_type": "display_data",
          "data": {
            "text/plain": [
              "<Figure size 640x480 with 1 Axes>"
            ],
            "image/png": "[encoded data removed]"
          },
          "metadata": {}
        }
      ]
    }
  ]
}